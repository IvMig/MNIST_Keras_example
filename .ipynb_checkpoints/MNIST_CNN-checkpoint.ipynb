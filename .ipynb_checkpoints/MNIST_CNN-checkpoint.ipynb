{
 "cells": [
  {
   "cell_type": "markdown",
   "metadata": {},
   "source": [
    "# Trains a simple convnet on the MNIST dataset.\n",
    "\n",
    "* Gets to ~99% test accuracy after 12 epochs (there is still a lot of margin for parameter tuning).\n",
    "\n",
    "[source]()"
   ]
  },
  {
   "cell_type": "code",
   "execution_count": null,
   "metadata": {
    "collapsed": true
   },
   "outputs": [],
   "source": [
    "import keras\n",
    "from keras.datasets import mnist\n",
    "from keras.models import Sequential\n",
    "from keras.layers import Dense, Dropout, Flatten\n",
    "from keras.layers import Conv2D, MaxPooling2D\n",
    "from keras import backend as K"
   ]
  },
  {
   "cell_type": "code",
   "execution_count": null,
   "metadata": {
    "collapsed": true
   },
   "outputs": [],
   "source": [
    "batch_size = 128\n",
    "num_classes = 10\n",
    "epochs = 12\n",
    "\n",
    "# input image dimensions\n",
    "img_rows, img_cols = 28, 28"
   ]
  },
  {
   "cell_type": "code",
   "execution_count": null,
   "metadata": {
    "collapsed": true
   },
   "outputs": [],
   "source": [
    "# the data, shuffled and split between train and test sets\n",
    "(x_train, y_train), (x_test, y_test) = mnist.load_data()\n",
    "\n",
    "if K.image_data_format() == 'channels_first':\n",
    "    x_train = x_train.reshape(x_train.shape[0], 1, img_rows, img_cols)\n",
    "    x_test = x_test.reshape(x_test.shape[0], 1, img_rows, img_cols)\n",
    "    input_shape = (1, img_rows, img_cols)\n",
    "else:\n",
    "    x_train = x_train.reshape(x_train.shape[0], img_rows, img_cols, 1)\n",
    "    x_test = x_test.reshape(x_test.shape[0], img_rows, img_cols, 1)\n",
    "    input_shape = (img_rows, img_cols, 1)"
   ]
  },
  {
   "cell_type": "code",
   "execution_count": 1,
   "metadata": {
    "collapsed": false
   },
   "outputs": [
    {
     "name": "stderr",
     "output_type": "stream",
     "text": [
      "Using TensorFlow backend.\n"
     ]
    },
    {
     "name": "stdout",
     "output_type": "stream",
     "text": [
      "Downloading data from https://s3.amazonaws.com/img-datasets/mnist.npz\n",
      "11493376/11490434 [==============================] - 54s 5us/step\n",
      "x_train shape: (60000, 28, 28, 1)\n",
      "60000 train samples\n",
      "10000 test samples\n",
      "Train on 60000 samples, validate on 10000 samples\n",
      "Epoch 1/12\n",
      "60000/60000 [==============================] - 601s 10ms/step - loss: 2.5562 - acc: 0.3760 - val_loss: 1.1486 - val_acc: 0.7023\n",
      "Epoch 2/12\n",
      "60000/60000 [==============================] - 596s 10ms/step - loss: 1.4476 - acc: 0.5389 - val_loss: 0.8893 - val_acc: 0.7640\n",
      "Epoch 3/12\n",
      "60000/60000 [==============================] - 524s 9ms/step - loss: 1.3621 - acc: 0.5764 - val_loss: 0.9030 - val_acc: 0.7635\n",
      "Epoch 4/12\n",
      "60000/60000 [==============================] - 432s 7ms/step - loss: 1.3123 - acc: 0.5882 - val_loss: 0.9873 - val_acc: 0.8153\n",
      "Epoch 5/12\n",
      "60000/60000 [==============================] - 492s 8ms/step - loss: 1.3336 - acc: 0.5917 - val_loss: 0.8070 - val_acc: 0.8258\n",
      "Epoch 6/12\n",
      "60000/60000 [==============================] - 653s 11ms/step - loss: 1.3149 - acc: 0.6050 - val_loss: 0.8736 - val_acc: 0.8362\n",
      "Epoch 7/12\n",
      "60000/60000 [==============================] - 678s 11ms/step - loss: 1.3093 - acc: 0.6107 - val_loss: 0.9714 - val_acc: 0.7759\n",
      "Epoch 8/12\n",
      "60000/60000 [==============================] - 654s 11ms/step - loss: 1.2897 - acc: 0.6175 - val_loss: 0.9579 - val_acc: 0.8122\n",
      "Epoch 9/12\n",
      "60000/60000 [==============================] - 613s 10ms/step - loss: 1.3353 - acc: 0.6196 - val_loss: 0.9124 - val_acc: 0.8201\n",
      "Epoch 10/12\n",
      "60000/60000 [==============================] - 463s 8ms/step - loss: 1.3385 - acc: 0.6159 - val_loss: 0.8471 - val_acc: 0.8091\n",
      "Epoch 11/12\n",
      "60000/60000 [==============================] - 456s 8ms/step - loss: 1.3163 - acc: 0.6172 - val_loss: 0.8390 - val_acc: 0.8304\n",
      "Epoch 12/12\n",
      "60000/60000 [==============================] - 446s 7ms/step - loss: 1.3202 - acc: 0.6308 - val_loss: 1.6055 - val_acc: 0.7926\n",
      "Test loss: 1.60546913834\n",
      "Test accuracy: 0.7926\n"
     ]
    }
   ],
   "source": [
    "x_train = x_train.astype('float32')\n",
    "x_test = x_test.astype('float32')\n",
    "x_train /= 255\n",
    "x_test /= 255\n",
    "print('x_train shape:', x_train.shape)\n",
    "print(x_train.shape[0], 'train samples')\n",
    "print(x_test.shape[0], 'test samples')\n",
    "\n",
    "# convert class vectors to binary class matrices\n",
    "y_train = keras.utils.to_categorical(y_train, num_classes)\n",
    "y_test = keras.utils.to_categorical(y_test, num_classes)\n",
    "\n",
    "model = Sequential()\n",
    "model.add(Conv2D(32, kernel_size=(3, 3),\n",
    "                 activation='relu',\n",
    "                 input_shape=input_shape))\n",
    "model.add(Conv2D(64, (3, 3), activation='relu'))\n",
    "model.add(MaxPooling2D(pool_size=(2, 2)))\n",
    "model.add(Dropout(0.25))\n",
    "model.add(Flatten())\n",
    "model.add(Dense(128, activation='relu'))\n",
    "model.add(Dropout(0.5))\n",
    "model.add(Dense(num_classes, activation='softmax'))\n",
    "\n",
    "model.compile(loss=keras.losses.categorical_crossentropy,\n",
    "              optimizer=keras.optimizers.Adadelta(),\n",
    "              metrics=['accuracy'])\n",
    "\n",
    "model.fit(x_train, y_train,\n",
    "          batch_size=batch_size,\n",
    "          epochs=epochs,\n",
    "          verbose=1,\n",
    "          validation_data=(x_test, y_test))\n",
    "score = model.evaluate(x_test, y_test, verbose=0)\n",
    "print('Test loss:', score[0])\n",
    "print('Test accuracy:', score[1])"
   ]
  }
 ],
 "metadata": {
  "anaconda-cloud": {},
  "kernelspec": {
   "display_name": "Python [conda root]",
   "language": "python",
   "name": "conda-root-py"
  },
  "language_info": {
   "codemirror_mode": {
    "name": "ipython",
    "version": 3
   },
   "file_extension": ".py",
   "mimetype": "text/x-python",
   "name": "python",
   "nbconvert_exporter": "python",
   "pygments_lexer": "ipython3",
   "version": "3.5.2"
  }
 },
 "nbformat": 4,
 "nbformat_minor": 1
}
