{
 "cells": [
  {
   "cell_type": "markdown",
   "metadata": {},
   "source": [
    "# Тренировка простой сверточной нейросети на датасете MNIST.\n",
    "\n",
    "[Источник](https://github.com/keras-team/keras/blob/master/examples/mnist_cnn.py)\n",
    "\n",
    "## Импорт необходимых библиотек\n",
    "\n",
    "Ссылки на сторонние библиотеки:\n",
    "\n",
    "[matplotlib](https://matplotlib.org/)\n",
    "\n",
    "[keras](https://keras.io/)\n",
    "\n",
    "[numpy](http://www.numpy.org/)\n",
    "\n",
    "Нажмите `Shift+Enter`, чтобы выполнить код в ячейке. Или нажмите `Kernel --> Restart and Run All` для запуска всех ячеек по очереди."
   ]
  },
  {
   "cell_type": "code",
   "execution_count": 1,
   "metadata": {},
   "outputs": [
    {
     "name": "stderr",
     "output_type": "stream",
     "text": [
      "Using TensorFlow backend.\n"
     ]
    },
    {
     "name": "stdout",
     "output_type": "stream",
     "text": [
      "Версия python3: 3.6.3 |Anaconda, Inc.| (default, Nov 20 2017, 20:41:42) \n",
      "[GCC 7.2.0]\n",
      "Версия keras: 2.0.8\n",
      "Версия matplotlib: 2.1.0\n",
      "Версия numpy 1.13.3\n"
     ]
    }
   ],
   "source": [
    "%matplotlib inline\n",
    "\n",
    "# Библиотека для работы с графиками и изображениями\n",
    "import matplotlib\n",
    "from matplotlib import pyplot as plt\n",
    "\n",
    "# Одна из библиотек для работы с нейросетями\n",
    "import keras\n",
    "\n",
    "# Класс для работы с датасетом MNIST\n",
    "from keras.datasets import mnist\n",
    "\n",
    "# Класс для создания модели\n",
    "from keras.models import Sequential\n",
    "\n",
    "# Классы полносвязных слоев, \n",
    "# Dropout слой (отсечение значений на входе, меньше заданного), \n",
    "# Flatten слой (изменяет размерность входных данных модели)\n",
    "from keras.layers import Dense, Dropout, Flatten\n",
    "\n",
    "# Conv2D слой, MaxPooling2D слой\n",
    "from keras.layers import Conv2D, MaxPooling2D\n",
    "\n",
    "# Класс для просмотра backend'а (Tensorflow или Treano)\n",
    "from keras import backend as K\n",
    "\n",
    "# Библиотека для быстрой работы с многомерными массивами\n",
    "import numpy as np\n",
    "\n",
    "# Встроенный модуль языка Python, который предоставляет функции для генерации случайных чисел,\n",
    "# букв, случайного выбора элементов последовательности.\n",
    "import random\n",
    "\n",
    "# Модуль, который обеспечивает доступ к некоторым переменным и функциям,\n",
    "# взаимодействующим с интерпретатором python.\n",
    "import sys\n",
    "\n",
    "# Вывод версий пакетов\n",
    "print('Версия python3:', sys.version)\n",
    "print('Версия keras:', keras.__version__)\n",
    "print('Версия matplotlib:', matplotlib.__version__)\n",
    "print('Версия numpy', np.__version__)"
   ]
  },
  {
   "cell_type": "markdown",
   "metadata": {},
   "source": [
    "## Задание параметров для обучения"
   ]
  },
  {
   "cell_type": "code",
   "execution_count": 2,
   "metadata": {},
   "outputs": [],
   "source": [
    "# Размер пакета для обучения (Можно попробовать менять)\n",
    "batch_size = 128\n",
    "\n",
    "# Число классов (лучше не трогать, потому что цифр в датасете от 0 до 9)\n",
    "num_classes = 10\n",
    "\n",
    "# Число эпох (шагов обучения на датасете), можно менять\n",
    "epochs = 1\n",
    "\n",
    "# Размер изображение, которое подается на вход нейросети. \n",
    "# Менять в соответствии с возможностями машины (оперативная память)\n",
    "img_rows, img_cols = 28, 28"
   ]
  },
  {
   "cell_type": "code",
   "execution_count": 3,
   "metadata": {},
   "outputs": [
    {
     "name": "stdout",
     "output_type": "stream",
     "text": [
      "Downloading data from https://s3.amazonaws.com/img-datasets/mnist.npz\n",
      "11264000/11490434 [============================>.] - ETA: 0s"
     ]
    }
   ],
   "source": [
    "# Получить данные, предварительно размешанные и разделенные для обучения и теста.\n",
    "(x_train, y_train), (x_test, y_test) = mnist.load_data()"
   ]
  },
  {
   "cell_type": "markdown",
   "metadata": {},
   "source": [
    "## Форматирование размерности входных данных в зависимости от backend'а."
   ]
  },
  {
   "cell_type": "code",
   "execution_count": 4,
   "metadata": {},
   "outputs": [],
   "source": [
    "if K.image_data_format() == 'channels_first':\n",
    "    x_train = x_train.reshape(x_train.shape[0], 1, img_rows, img_cols)\n",
    "    x_test = x_test.reshape(x_test.shape[0], 1, img_rows, img_cols)\n",
    "    input_shape = (1, img_rows, img_cols)\n",
    "else:\n",
    "    x_train = x_train.reshape(x_train.shape[0], img_rows, img_cols, 1)\n",
    "    x_test = x_test.reshape(x_test.shape[0], img_rows, img_cols, 1)\n",
    "    input_shape = (img_rows, img_cols, 1)"
   ]
  },
  {
   "cell_type": "markdown",
   "metadata": {},
   "source": [
    "## Препроцессинг изображений. \n",
    "Так как нейросеть работает с числами от 0 до 1, то данные нужно нормировать. Для кодирования класса воспользуемся `to_categorical` из модуля keras.utils."
   ]
  },
  {
   "cell_type": "code",
   "execution_count": 5,
   "metadata": {},
   "outputs": [
    {
     "name": "stdout",
     "output_type": "stream",
     "text": [
      "x_train_ shape: (60000, 28, 28, 1)\n",
      "60000 train samples\n",
      "10000 test samples\n"
     ]
    }
   ],
   "source": [
    "# Нормировка данных\n",
    "x_train_ = x_train.astype('float32')\n",
    "x_test_ = x_test.astype('float32')\n",
    "x_train_ /= 255\n",
    "x_test_ /= 255\n",
    "print('x_train_ shape:', x_train_.shape)\n",
    "print(x_train_.shape[0], 'train samples')\n",
    "print(x_test_.shape[0], 'test samples')\n",
    "# Кодирование классов в бинарные вектора (по сути, One-hot-encoding)\n",
    "y_train_ = keras.utils.to_categorical(y_train, num_classes)\n",
    "y_test_ = keras.utils.to_categorical(y_test, num_classes)"
   ]
  },
  {
   "cell_type": "code",
   "execution_count": 6,
   "metadata": {},
   "outputs": [
    {
     "data": {
      "text/plain": [
       "array([0, 1, 2, 3, 4, 5, 6, 7, 8, 9], dtype=uint8)"
      ]
     },
     "execution_count": 6,
     "metadata": {},
     "output_type": "execute_result"
    }
   ],
   "source": [
    "# Проверим классы\n",
    "classes = np.unique(y_train)\n",
    "classes"
   ]
  },
  {
   "cell_type": "code",
   "execution_count": 7,
   "metadata": {},
   "outputs": [],
   "source": [
    "# Вывод картинок\n",
    "def plot_images(images, cls_true, cls_pred=None):\n",
    "    \n",
    "    if len(images) == 0:\n",
    "        print(\"Нет изображений\")\n",
    "        return \n",
    "    else:\n",
    "        # Берем 9 картинок случайным образом\n",
    "        random_indices = random.sample(range(len(images)), min(len(images), 9))\n",
    "            \n",
    "    # Для отображения результатов предсказывания\n",
    "    if cls_pred is None:\n",
    "        images, cls_true = zip(*[(images[i], cls_true[i]) for i in random_indices])\n",
    "    else:\n",
    "        images, cls_true, cls_pred = zip(*[(images[i], cls_true[i], cls_pred[i]) for i in random_indices])\n",
    "    \n",
    "    # Создания рисунка с 3*3 графиками\n",
    "    fig, axes = plt.subplots(3, 3)\n",
    "    fig.subplots_adjust(hspace=0.3, wspace=0.3)\n",
    "\n",
    "    for i, ax in enumerate(axes.flat):\n",
    "        # Вывод изображение\n",
    "        image = images[i]\n",
    "        ax.imshow(image)\n",
    "\n",
    "        # Показать истинный класс и предсказанный класс объекта\n",
    "        if cls_pred is None:\n",
    "            xlabel = \"True: {0}\".format(cls_true[i])\n",
    "        else:\n",
    "            xlabel = \"True: {0}, Pred: {1}\".format(cls_true[i], cls_pred[i])\n",
    "\n",
    "        # Показать классы как ось графика\n",
    "        ax.set_xlabel(xlabel)\n",
    "        \n",
    "        # Убрать шкалу по осям\n",
    "        ax.set_xticks([])\n",
    "        ax.set_yticks([])\n",
    "    \n",
    "    # Корректный вывод изображений в ячейке Jupyter\n",
    "    plt.show()"
   ]
  },
  {
   "cell_type": "markdown",
   "metadata": {},
   "source": [
    "## Просмотр данных для обучения"
   ]
  },
  {
   "cell_type": "code",
   "execution_count": 8,
   "metadata": {},
   "outputs": [
    {
     "data": {
      "image/png": "[encoded data removed]",
      "text/plain": [
       "<matplotlib.figure.Figure at 0x7f252b04d320>"
      ]
     },
     "metadata": {},
     "output_type": "display_data"
    }
   ],
   "source": [
    "plot_images(x_train[:,:,:,0], y_train, cls_pred=None)"
   ]
  },
  {
   "cell_type": "markdown",
   "metadata": {},
   "source": [
    "## Просмотр данных для теста"
   ]
  },
  {
   "cell_type": "code",
   "execution_count": 9,
   "metadata": {},
   "outputs": [
    {
     "data": {
      "image/png": "[encoded data removed]",
      "text/plain": [
       "<matplotlib.figure.Figure at 0x7f2516de6b00>"
      ]
     },
     "metadata": {},
     "output_type": "display_data"
    }
   ],
   "source": [
    "plot_images(x_test[:,:,:,0], y_test, cls_pred=None)"
   ]
  },
  {
   "cell_type": "markdown",
   "metadata": {},
   "source": [
    "## Архитектура нейросети"
   ]
  },
  {
   "cell_type": "code",
   "execution_count": 10,
   "metadata": {},
   "outputs": [],
   "source": [
    "# https://keras.io/models/sequential/\n",
    "model = Sequential()\n",
    "\n",
    "# https://ru.wikipedia.org/wiki/Свёрточная_нейронная_сеть\n",
    "# https://keras.io/layers/convolutional/\n",
    "model.add(Conv2D(32, kernel_size=(3, 3),\n",
    "                 activation='relu',\n",
    "                 input_shape=input_shape))\n",
    "model.add(Conv2D(64, (3, 3), activation='relu'))\n",
    "\n",
    "# https://keras.io/layers/pooling/\n",
    "model.add(MaxPooling2D(pool_size=(2, 2)))\n",
    "\n",
    "# https://keras.io/layers/core/\n",
    "model.add(Dropout(0.25))\n",
    "model.add(Flatten())\n",
    "model.add(Dense(128, activation='relu'))\n",
    "model.add(Dropout(0.5))\n",
    "model.add(Dense(num_classes, activation='softmax'))\n",
    "\n",
    "# https://www.quora.com/What-are-differences-between-update-rules-like-AdaDelta-RMSProp-AdaGrad-and-AdaM\n",
    "# https://ru.wikipedia.org/wiki/Перекрёстная_энтропия (crossentropy)\n",
    "model.compile(loss=keras.losses.categorical_crossentropy,\n",
    "              optimizer=keras.optimizers.Adadelta(),\n",
    "              metrics=['accuracy'])"
   ]
  },
  {
   "cell_type": "markdown",
   "metadata": {},
   "source": [
    "## Обучение"
   ]
  },
  {
   "cell_type": "code",
   "execution_count": 11,
   "metadata": {},
   "outputs": [
    {
     "name": "stdout",
     "output_type": "stream",
     "text": [
      "Train on 60000 samples, validate on 10000 samples\n",
      "Epoch 1/1\n",
      "60000/60000 [==============================] - 47s - loss: 0.3265 - acc: 0.9014 - val_loss: 0.0803 - val_acc: 0.9749\n"
     ]
    },
    {
     "data": {
      "text/plain": [
       "<keras.callbacks.History at 0x7f2516b6f9b0>"
      ]
     },
     "execution_count": 11,
     "metadata": {},
     "output_type": "execute_result"
    }
   ],
   "source": [
    "model.fit(x_train_, y_train_,\n",
    "          batch_size=batch_size,\n",
    "          epochs=epochs,\n",
    "          verbose=1,\n",
    "          validation_data=(x_test_, y_test_))"
   ]
  },
  {
   "cell_type": "markdown",
   "metadata": {},
   "source": [
    "## Оценка качества классификации"
   ]
  },
  {
   "cell_type": "code",
   "execution_count": 12,
   "metadata": {},
   "outputs": [
    {
     "name": "stdout",
     "output_type": "stream",
     "text": [
      "Потери на тесте: 0.0803166711401\n",
      "Точность на тесте: 0.9749\n"
     ]
    }
   ],
   "source": [
    "score = model.evaluate(x_test_, y_test_, verbose=0)\n",
    "print('Потери на тесте:', score[0])\n",
    "print('Точность на тесте:', score[1])"
   ]
  },
  {
   "cell_type": "markdown",
   "metadata": {},
   "source": [
    "## Вывод результатов"
   ]
  },
  {
   "cell_type": "code",
   "execution_count": 13,
   "metadata": {},
   "outputs": [],
   "source": [
    "def plot_example_errors_rights(cls_pred, correct):\n",
    "\n",
    "    incorrect = (correct == False)\n",
    "    \n",
    "    images_incorrect = x_test[incorrect,:,:,0]\n",
    "    \n",
    "    cls_pred_incorrect = cls_pred[incorrect]\n",
    "\n",
    "    labels = y_test\n",
    "    cls_true_incorrect = labels[incorrect]\n",
    "    \n",
    "    print('Ошибки классификации')\n",
    "    plot_images(images=images_incorrect[0:9],\n",
    "                cls_true=cls_true_incorrect[0:9],\n",
    "                cls_pred=cls_pred_incorrect[0:9])\n",
    "    \n",
    "    images_correct = x_test[correct,:,:,0]\n",
    "    \n",
    "    cls_pred_correct = cls_pred[correct]\n",
    "\n",
    "    cls_true_correct = labels[correct]\n",
    "    \n",
    "    print('Правильная классификация')\n",
    "    plot_images(images=images_correct[0:9],\n",
    "                cls_true=cls_true_correct[0:9],\n",
    "                cls_pred=cls_pred_correct[0:9])"
   ]
  },
  {
   "cell_type": "code",
   "execution_count": 14,
   "metadata": {},
   "outputs": [],
   "source": [
    "def print_validation_accuracy(show_example_errors_rights=False):\n",
    "    \n",
    "    cls_pred = np.array([np.argmax(x) for x in model.predict(x_test_)], dtype=np.int)\n",
    "    \n",
    "    cls_true = y_test\n",
    "\n",
    "    correct = (cls_true == cls_pred)\n",
    "\n",
    "    correct_sum = correct.sum()\n",
    "\n",
    "    acc = float(correct_sum) / len(y_test)\n",
    "\n",
    "    msg = \"Точность на поверочном множестве: {0:.1%} ({1} / {2})\"\n",
    "    print(msg.format(acc, correct_sum, len(y_test)))\n",
    "\n",
    "    if show_example_errors_rights:\n",
    "        print(\"Примеры ошибок и правильных классификаций:\")\n",
    "        plot_example_errors_rights(cls_pred=cls_pred, correct=correct)"
   ]
  },
  {
   "cell_type": "markdown",
   "metadata": {},
   "source": [
    "## Результаты"
   ]
  },
  {
   "cell_type": "code",
   "execution_count": 15,
   "metadata": {},
   "outputs": [
    {
     "name": "stdout",
     "output_type": "stream",
     "text": [
      "Точность на поверочном множестве: 97.5% (9749 / 10000)\n",
      "Примеры ошибок и правильных классификаций:\n",
      "Ошибки классификации\n"
     ]
    },
    {
     "data": {
      "image/png": "[encoded data removed]",
      "text/plain": [
       "<matplotlib.figure.Figure at 0x7f25164e5748>"
      ]
     },
     "metadata": {},
     "output_type": "display_data"
    },
    {
     "name": "stdout",
     "output_type": "stream",
     "text": [
      "Правильная классификация\n"
     ]
    },
    {
     "data": {
      "image/png": "[encoded data removed]",
      "text/plain": [
       "<matplotlib.figure.Figure at 0x7f25115e77f0>"
      ]
     },
     "metadata": {},
     "output_type": "display_data"
    },
    {
     "name": "stdout",
     "output_type": "stream",
     "text": [
      "CPU times: user 43.1 s, sys: 53.4 s, total: 1min 36s\n",
      "Wall time: 6.64 s\n"
     ]
    }
   ],
   "source": [
    "%%time\n",
    "\n",
    "print_validation_accuracy(show_example_errors_rights=True)"
   ]
  }
 ],
 "metadata": {
  "anaconda-cloud": {},
  "kernelspec": {
   "display_name": "Python (utair)",
   "language": "python",
   "name": "utair"
  },
  "language_info": {
   "codemirror_mode": {
    "name": "ipython",
    "version": 3
   },
   "file_extension": ".py",
   "mimetype": "text/x-python",
   "name": "python",
   "nbconvert_exporter": "python",
   "pygments_lexer": "ipython3",
   "version": "3.6.3"
  }
 },
 "nbformat": 4,
 "nbformat_minor": 1
}
